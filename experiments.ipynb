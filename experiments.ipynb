{
 "cells": [
  {
   "cell_type": "code",
   "execution_count": 23,
   "id": "4f1fe16c",
   "metadata": {},
   "outputs": [],
   "source": [
    "from scqbf.scqbf_evaluator import *\n",
    "from scqbf.scqbf_solution import *\n",
    "from scqbf.scqbf_grasp import *\n",
    "from scqbf.scqbf_instance import *\n",
    "\n",
    "import pandas as pd\n",
    "import numpy as np\n",
    "import pickle"
   ]
  },
  {
   "cell_type": "code",
   "execution_count": 24,
   "id": "1a497ed1",
   "metadata": {},
   "outputs": [],
   "source": [
    "instance_paths = [(f\"instances/gen{i}/instance{j}.txt\", i, j) for i in range(1, 4) for j in range(1, 6)]"
   ]
  },
  {
   "cell_type": "code",
   "execution_count": 25,
   "id": "95fe74aa",
   "metadata": {},
   "outputs": [],
   "source": [
    "alpha_1 = 0.3   # More greedy\n",
    "alpha_2 = 0.8   # More random"
   ]
  },
  {
   "cell_type": "code",
   "execution_count": null,
   "id": "e91fce15",
   "metadata": {},
   "outputs": [],
   "source": [
    "def run_experiment(config: dict) -> pd.DataFrame:\n",
    "    results = []\n",
    "    exp_num = 1\n",
    "\n",
    "    for instance_path, gen, inst in instance_paths:\n",
    "        instance = read_max_sc_qbf_instance(instance_path)\n",
    "        print(f\"{exp_num}: {inst}th instance of generation strategy {gen}. Path: {instance_path}\")\n",
    "        exp_num += 1\n",
    "        \n",
    "        grasp = ScQbfGrasp(instance, config=config, max_iterations=None, time_limit_secs=600, patience=1)\n",
    "        best_solution = grasp.solve()\n",
    "        \n",
    "        if grasp.solve_time >= 600:\n",
    "            stop_reason = \"time_limit\"\n",
    "        else:\n",
    "            stop_reason = \"patience_exceeded\" \n",
    "        \n",
    "        evaluator = ScQbfEvaluator(instance)\n",
    "        \n",
    "        results.append({\n",
    "            'gen': gen,\n",
    "            'inst': inst,\n",
    "            'n': instance.n,\n",
    "            'stop_reason': stop_reason,\n",
    "            'best_objective': evaluator.evaluate_objfun(best_solution),\n",
    "            'coverage': evaluator.evaluate_coverage(best_solution),\n",
    "            'time_taken': grasp.solve_time\n",
    "        })\n",
    "        \n",
    "        last_result = results[-1]\n",
    "        print(f\"\\tBest objective value: {last_result['best_objective']:.4f}\")\n",
    "        print(f\"Selected elements: {best_solution.elements}\")\n",
    "        print(f\"\\tCoverage: {last_result['coverage']:.2%}\")\n",
    "        print(f\"\\tTime taken (secs): {last_result['time_taken']:.4f} s\")\n",
    "        print(f\"\\tStop reason: {last_result['stop_reason']}\")\n",
    "        print()\n",
    "    \n",
    "    df = pd.DataFrame(results)\n",
    "    return df"
   ]
  },
  {
   "cell_type": "markdown",
   "id": "632903cd",
   "metadata": {},
   "source": [
    "## Configuração 1 - PADRÃO:\n",
    "GRASP com parâmetro α1 , first-improving e heurística construtiva padrão."
   ]
  },
  {
   "cell_type": "code",
   "execution_count": 27,
   "id": "bf22a137",
   "metadata": {},
   "outputs": [
    {
     "name": "stdout",
     "output_type": "stream",
     "text": [
      "1: 1th instance of generation strategy 1. Path: instances/gen1/instance1.txt\n",
      "Patience exhausted, no improvement to the objective solution in 1 iterations, stopping GRASP.\n",
      "\tBest objective value: 4590.4300\n",
      "\tCoverage: 100.00%\n",
      "\tTime taken (secs): 0.2638 s\n",
      "\tStop reason: patience_exceeded\n",
      "\n",
      "2: 2th instance of generation strategy 1. Path: instances/gen1/instance2.txt\n",
      "Patience exhausted, no improvement to the objective solution in 1 iterations, stopping GRASP.\n",
      "\tBest objective value: 4668.0700\n",
      "\tCoverage: 100.00%\n",
      "\tTime taken (secs): 0.9374 s\n",
      "\tStop reason: patience_exceeded\n",
      "\n",
      "3: 3th instance of generation strategy 1. Path: instances/gen1/instance3.txt\n",
      "Patience exhausted, no improvement to the objective solution in 1 iterations, stopping GRASP.\n",
      "\tBest objective value: 645.6200\n",
      "\tCoverage: 100.00%\n",
      "\tTime taken (secs): 0.0047 s\n",
      "\tStop reason: patience_exceeded\n",
      "\n",
      "4: 4th instance of generation strategy 1. Path: instances/gen1/instance4.txt\n",
      "Patience exhausted, no improvement to the objective solution in 1 iterations, stopping GRASP.\n",
      "\tBest objective value: 261.0600\n",
      "\tCoverage: 100.00%\n",
      "\tTime taken (secs): 0.0013 s\n",
      "\tStop reason: patience_exceeded\n",
      "\n",
      "5: 5th instance of generation strategy 1. Path: instances/gen1/instance5.txt\n",
      "Patience exhausted, no improvement to the objective solution in 1 iterations, stopping GRASP.\n",
      "\tBest objective value: 1525.3500\n",
      "\tCoverage: 100.00%\n",
      "\tTime taken (secs): 0.1394 s\n",
      "\tStop reason: patience_exceeded\n",
      "\n",
      "6: 1th instance of generation strategy 2. Path: instances/gen2/instance1.txt\n",
      "Patience exhausted, no improvement to the objective solution in 1 iterations, stopping GRASP.\n",
      "\tBest objective value: 575.8700\n",
      "\tCoverage: 100.00%\n",
      "\tTime taken (secs): 0.0054 s\n",
      "\tStop reason: patience_exceeded\n",
      "\n",
      "7: 2th instance of generation strategy 2. Path: instances/gen2/instance2.txt\n",
      "Patience exhausted, no improvement to the objective solution in 1 iterations, stopping GRASP.\n",
      "\tBest objective value: 14288.6400\n",
      "\tCoverage: 100.00%\n",
      "\tTime taken (secs): 5.0737 s\n",
      "\tStop reason: patience_exceeded\n",
      "\n",
      "8: 3th instance of generation strategy 2. Path: instances/gen2/instance3.txt\n",
      "Patience exhausted, no improvement to the objective solution in 1 iterations, stopping GRASP.\n",
      "\tBest objective value: 210.1600\n",
      "\tCoverage: 100.00%\n",
      "\tTime taken (secs): 0.0009 s\n",
      "\tStop reason: patience_exceeded\n",
      "\n",
      "9: 4th instance of generation strategy 2. Path: instances/gen2/instance4.txt\n",
      "Patience exhausted, no improvement to the objective solution in 1 iterations, stopping GRASP.\n",
      "\tBest objective value: 13375.1500\n",
      "\tCoverage: 100.00%\n",
      "\tTime taken (secs): 2.3601 s\n",
      "\tStop reason: patience_exceeded\n",
      "\n",
      "10: 5th instance of generation strategy 2. Path: instances/gen2/instance5.txt\n",
      "Patience exhausted, no improvement to the objective solution in 1 iterations, stopping GRASP.\n",
      "\tBest objective value: 1511.2900\n",
      "\tCoverage: 100.00%\n",
      "\tTime taken (secs): 0.1866 s\n",
      "\tStop reason: patience_exceeded\n",
      "\n",
      "11: 1th instance of generation strategy 3. Path: instances/gen3/instance1.txt\n",
      "Patience exhausted, no improvement to the objective solution in 1 iterations, stopping GRASP.\n",
      "\tBest objective value: 238058.8700\n",
      "\tCoverage: 100.00%\n",
      "\tTime taken (secs): 2.2943 s\n",
      "\tStop reason: patience_exceeded\n",
      "\n",
      "12: 2th instance of generation strategy 3. Path: instances/gen3/instance2.txt\n",
      "Patience exhausted, no improvement to the objective solution in 1 iterations, stopping GRASP.\n",
      "\tBest objective value: 14887.4300\n",
      "\tCoverage: 100.00%\n",
      "\tTime taken (secs): 0.0130 s\n",
      "\tStop reason: patience_exceeded\n",
      "\n",
      "13: 3th instance of generation strategy 3. Path: instances/gen3/instance3.txt\n",
      "Patience exhausted, no improvement to the objective solution in 1 iterations, stopping GRASP.\n",
      "\tBest objective value: 59765.9700\n",
      "\tCoverage: 100.00%\n",
      "\tTime taken (secs): 0.1103 s\n",
      "\tStop reason: patience_exceeded\n",
      "\n",
      "14: 4th instance of generation strategy 3. Path: instances/gen3/instance4.txt\n",
      "Patience exhausted, no improvement to the objective solution in 1 iterations, stopping GRASP.\n",
      "\tBest objective value: 981.0500\n",
      "\tCoverage: 100.00%\n",
      "\tTime taken (secs): 0.0012 s\n",
      "\tStop reason: patience_exceeded\n",
      "\n",
      "15: 5th instance of generation strategy 3. Path: instances/gen3/instance5.txt\n",
      "Patience exhausted, no improvement to the objective solution in 1 iterations, stopping GRASP.\n",
      "\tBest objective value: 766.7100\n",
      "\tCoverage: 100.00%\n",
      "\tTime taken (secs): 0.0020 s\n",
      "\tStop reason: patience_exceeded\n",
      "\n"
     ]
    }
   ],
   "source": [
    "config_1 = {\n",
    "    \"construction_method\": \"traditional\",\n",
    "    \"construction_args\": [alpha_1],\n",
    "    \"local_search_method\": \"first_improve\",\n",
    "}\n",
    "results_df = run_experiment(config_1)\n",
    "\n",
    "with open(\"pickles/results_config_1.pkl\", \"wb\") as f:\n",
    "    pickle.dump(results_df, f)"
   ]
  },
  {
   "cell_type": "markdown",
   "id": "dde74c09",
   "metadata": {},
   "source": [
    "## Configuração 2 - PADRÃO+ALPHA:\n",
    "GRASP PADRÃO mas com parâmetro α2 ."
   ]
  },
  {
   "cell_type": "code",
   "execution_count": null,
   "id": "13cd4b01",
   "metadata": {},
   "outputs": [
    {
     "name": "stdout",
     "output_type": "stream",
     "text": [
      "1: 1th instance of generation strategy 1. Path: instances/gen1/instance1.txt\n",
      "Patience exhausted, no improvement to the objective solution in 10 iterations, stopping GRASP.\n",
      "\tBest objective value: 4614.2500\n",
      "\tElements selected: [78, 40, 114, 12, 13, 9, 11, 1, 15, 5, 8, 14, 25, 32, 33, 37, 38, 45, 10, 46, 27, 47, 48, 64, 68, 69, 71, 50, 72, 36, 65, 73, 28, 76, 80, 81, 86, 79, 87, 90, 91, 92, 41, 89, 94, 97, 98, 105, 110, 111, 61, 116, 54, 113, 118, 117, 51, 123, 23, 129, 131, 124, 136, 102, 133, 67, 142, 144, 145, 146, 115, 150, 151, 152, 154, 157, 158, 159, 161, 163, 167, 172, 169, 175, 178, 160, 179, 187, 174, 189, 112, 192, 195, 196, 126, 198, 171, 22, 60, 99, 109, 147, 148, 153, 182, 43, 128, 184, 197, 166, 173, 134, 85, 137, 139, 83, 44, 53, 135, 125, 93]\n",
      "\tCoverage: 100.00%\n",
      "\tTime taken (secs): 3.5244 s\n",
      "\n",
      "2: 2th instance of generation strategy 1. Path: instances/gen1/instance2.txt\n",
      "Patience exhausted, no improvement to the objective solution in 10 iterations, stopping GRASP.\n",
      "\tBest objective value: 4668.0700\n",
      "\tElements selected: [191, 58, 169, 185, 5, 11, 10, 7, 2, 18, 0, 17, 22, 25, 27, 29, 32, 41, 42, 35, 48, 44, 50, 52, 53, 54, 15, 57, 59, 62, 63, 64, 67, 71, 73, 76, 46, 77, 21, 78, 82, 84, 90, 92, 51, 93, 45, 94, 95, 24, 68, 86, 97, 101, 102, 26, 103, 104, 106, 107, 111, 87, 120, 121, 122, 126, 129, 130, 132, 134, 100, 137, 139, 140, 141, 143, 144, 142, 152, 124, 146, 39, 154, 156, 110, 159, 161, 127, 69, 83, 162, 38, 88, 171, 172, 177, 178, 40, 180, 179, 133, 183, 184, 190, 193, 80, 72, 194, 195, 196, 197, 187, 198, 199, 13, 49, 74, 151, 163, 89, 19, 23, 56]\n",
      "\tCoverage: 100.00%\n",
      "\tTime taken (secs): 8.3261 s\n",
      "\n",
      "3: 3th instance of generation strategy 1. Path: instances/gen1/instance3.txt\n",
      "Patience exhausted, no improvement to the objective solution in 10 iterations, stopping GRASP.\n",
      "\tBest objective value: 645.6200\n",
      "\tElements selected: [22, 25, 31, 3, 8, 1, 2, 5, 6, 7, 12, 14, 15, 16, 9, 17, 18, 20, 24, 35, 42, 33, 26, 28, 29, 37, 43, 46, 27, 48, 21]\n",
      "\tCoverage: 100.00%\n",
      "\tTime taken (secs): 0.0769 s\n",
      "\n",
      "4: 4th instance of generation strategy 1. Path: instances/gen1/instance4.txt\n",
      "Patience exhausted, no improvement to the objective solution in 10 iterations, stopping GRASP.\n",
      "\tBest objective value: 261.0600\n",
      "\tElements selected: [23, 15, 12, 0, 8, 3, 4, 5, 7, 10, 16, 6, 14, 13, 18, 19, 20, 24]\n",
      "\tCoverage: 100.00%\n",
      "\tTime taken (secs): 0.0233 s\n",
      "\n",
      "5: 5th instance of generation strategy 1. Path: instances/gen1/instance5.txt\n",
      "Patience exhausted, no improvement to the objective solution in 10 iterations, stopping GRASP.\n",
      "\tBest objective value: 1525.3500\n",
      "\tElements selected: [97, 63, 80, 0, 3, 9, 2, 12, 16, 17, 19, 21, 18, 28, 35, 25, 32, 10, 23, 26, 37, 41, 47, 51, 53, 50, 6, 8, 46, 54, 56, 39, 59, 44, 61, 4, 62, 66, 30, 24, 70, 72, 73, 74, 77, 85, 86, 58, 90, 92, 55, 42, 93, 95, 88, 78, 69, 79, 64, 98]\n",
      "\tCoverage: 100.00%\n",
      "\tTime taken (secs): 1.1283 s\n",
      "\n",
      "6: 1th instance of generation strategy 2. Path: instances/gen2/instance1.txt\n",
      "Patience exhausted, no improvement to the objective solution in 10 iterations, stopping GRASP.\n",
      "\tBest objective value: 575.8700\n",
      "\tElements selected: [7, 10, 0, 3, 5, 9, 8, 15, 16, 20, 12, 23, 28, 29, 30, 36, 32, 14, 25, 39, 34, 40, 42, 43, 45, 46, 35, 49, 21, 6]\n",
      "\tCoverage: 100.00%\n",
      "\tTime taken (secs): 0.0937 s\n",
      "\n",
      "7: 2th instance of generation strategy 2. Path: instances/gen2/instance2.txt\n"
     ]
    },
    {
     "ename": "KeyboardInterrupt",
     "evalue": "",
     "output_type": "error",
     "traceback": [
      "\u001b[0;31m---------------------------------------------------------------------------\u001b[0m",
      "\u001b[0;31mKeyboardInterrupt\u001b[0m                         Traceback (most recent call last)",
      "Cell \u001b[0;32mIn[8], line 6\u001b[0m\n\u001b[1;32m      1\u001b[0m config_2 \u001b[38;5;241m=\u001b[39m {\n\u001b[1;32m      2\u001b[0m     \u001b[38;5;124m\"\u001b[39m\u001b[38;5;124mconstruction_method\u001b[39m\u001b[38;5;124m\"\u001b[39m: \u001b[38;5;124m\"\u001b[39m\u001b[38;5;124mtraditional\u001b[39m\u001b[38;5;124m\"\u001b[39m,\n\u001b[1;32m      3\u001b[0m     \u001b[38;5;124m\"\u001b[39m\u001b[38;5;124mconstruction_args\u001b[39m\u001b[38;5;124m\"\u001b[39m: [alpha_2],\n\u001b[1;32m      4\u001b[0m     \u001b[38;5;124m\"\u001b[39m\u001b[38;5;124mlocal_search_method\u001b[39m\u001b[38;5;124m\"\u001b[39m: \u001b[38;5;124m\"\u001b[39m\u001b[38;5;124mfirst_improve\u001b[39m\u001b[38;5;124m\"\u001b[39m,\n\u001b[1;32m      5\u001b[0m }\n\u001b[0;32m----> 6\u001b[0m \u001b[43mrun_experiment\u001b[49m\u001b[43m(\u001b[49m\u001b[43mconfig_2\u001b[49m\u001b[43m)\u001b[49m\n",
      "Cell \u001b[0;32mIn[6], line 10\u001b[0m, in \u001b[0;36mrun_experiment\u001b[0;34m(config)\u001b[0m\n\u001b[1;32m      7\u001b[0m exp_num \u001b[38;5;241m+\u001b[39m\u001b[38;5;241m=\u001b[39m \u001b[38;5;241m1\u001b[39m\n\u001b[1;32m      9\u001b[0m grasp \u001b[38;5;241m=\u001b[39m ScQbfGrasp(instance, config\u001b[38;5;241m=\u001b[39mconfig, max_iterations\u001b[38;5;241m=\u001b[39m\u001b[38;5;28;01mNone\u001b[39;00m, time_limit_secs\u001b[38;5;241m=\u001b[39m\u001b[38;5;241m600\u001b[39m, patience\u001b[38;5;241m=\u001b[39m\u001b[38;5;241m10\u001b[39m)\n\u001b[0;32m---> 10\u001b[0m best_solution \u001b[38;5;241m=\u001b[39m \u001b[43mgrasp\u001b[49m\u001b[38;5;241;43m.\u001b[39;49m\u001b[43msolve\u001b[49m\u001b[43m(\u001b[49m\u001b[43m)\u001b[49m\n\u001b[1;32m     12\u001b[0m evaluator \u001b[38;5;241m=\u001b[39m ScQbfEvaluator(instance)\n\u001b[1;32m     13\u001b[0m \u001b[38;5;28mprint\u001b[39m(\u001b[38;5;124mf\u001b[39m\u001b[38;5;124m\"\u001b[39m\u001b[38;5;130;01m\\t\u001b[39;00m\u001b[38;5;124mBest objective value: \u001b[39m\u001b[38;5;132;01m{\u001b[39;00mevaluator\u001b[38;5;241m.\u001b[39mevaluate_objfun(best_solution)\u001b[38;5;132;01m:\u001b[39;00m\u001b[38;5;124m.4f\u001b[39m\u001b[38;5;132;01m}\u001b[39;00m\u001b[38;5;124m\"\u001b[39m)\n",
      "File \u001b[0;32m~/Development/python_projects/MO824-A2/scqbf/scqbf_grasp.py:49\u001b[0m, in \u001b[0;36mScQbfGrasp.solve\u001b[0;34m(self)\u001b[0m\n\u001b[1;32m     46\u001b[0m         \u001b[38;5;28mprint\u001b[39m(\u001b[38;5;124m\"\u001b[39m\u001b[38;5;124mConstructed solution is not feasible, fixing...\u001b[39m\u001b[38;5;124m\"\u001b[39m)\n\u001b[1;32m     47\u001b[0m     constructed_sol \u001b[38;5;241m=\u001b[39m \u001b[38;5;28mself\u001b[39m\u001b[38;5;241m.\u001b[39m_fix_solution(constructed_sol)\n\u001b[0;32m---> 49\u001b[0m sol \u001b[38;5;241m=\u001b[39m \u001b[38;5;28;43mself\u001b[39;49m\u001b[38;5;241;43m.\u001b[39;49m\u001b[43m_local_search\u001b[49m\u001b[43m(\u001b[49m\u001b[43mconstructed_sol\u001b[49m\u001b[43m)\u001b[49m\n\u001b[1;32m     51\u001b[0m \u001b[38;5;28;01mif\u001b[39;00m (\u001b[38;5;28mself\u001b[39m\u001b[38;5;241m.\u001b[39mevaluator\u001b[38;5;241m.\u001b[39mevaluate_objfun(sol) \u001b[38;5;241m>\u001b[39m \u001b[38;5;28mself\u001b[39m\u001b[38;5;241m.\u001b[39mevaluator\u001b[38;5;241m.\u001b[39mevaluate_objfun(best_sol)):\n\u001b[1;32m     52\u001b[0m     best_sol \u001b[38;5;241m=\u001b[39m sol\n",
      "File \u001b[0;32m~/Development/python_projects/MO824-A2/scqbf/scqbf_grasp.py:246\u001b[0m, in \u001b[0;36mScQbfGrasp._local_search\u001b[0;34m(self, starting_point)\u001b[0m\n\u001b[1;32m    244\u001b[0m     \u001b[38;5;28;01mreturn\u001b[39;00m \u001b[38;5;28mself\u001b[39m\u001b[38;5;241m.\u001b[39m_local_search_best_improve(starting_point)\n\u001b[1;32m    245\u001b[0m \u001b[38;5;28;01melif\u001b[39;00m \u001b[38;5;28mself\u001b[39m\u001b[38;5;241m.\u001b[39mconfig\u001b[38;5;241m.\u001b[39mget(\u001b[38;5;124m\"\u001b[39m\u001b[38;5;124mlocal_search_method\u001b[39m\u001b[38;5;124m\"\u001b[39m, \u001b[38;5;28;01mFalse\u001b[39;00m) \u001b[38;5;241m==\u001b[39m \u001b[38;5;124m\"\u001b[39m\u001b[38;5;124mfirst_improve\u001b[39m\u001b[38;5;124m\"\u001b[39m:\n\u001b[0;32m--> 246\u001b[0m     \u001b[38;5;28;01mreturn\u001b[39;00m \u001b[38;5;28;43mself\u001b[39;49m\u001b[38;5;241;43m.\u001b[39;49m\u001b[43m_local_search_first_improve\u001b[49m\u001b[43m(\u001b[49m\u001b[43mstarting_point\u001b[49m\u001b[43m)\u001b[49m\n",
      "File \u001b[0;32m~/Development/python_projects/MO824-A2/scqbf/scqbf_grasp.py:331\u001b[0m, in \u001b[0;36mScQbfGrasp._local_search_first_improve\u001b[0;34m(self, starting_point)\u001b[0m\n\u001b[1;32m    329\u001b[0m     \u001b[38;5;28mprint\u001b[39m(\u001b[38;5;124mf\u001b[39m\u001b[38;5;124m\"\u001b[39m\u001b[38;5;124m[local_search]: First improvement found (insertion)! Delta: \u001b[39m\u001b[38;5;132;01m{\u001b[39;00mdelta\u001b[38;5;132;01m}\u001b[39;00m\u001b[38;5;124m, in \u001b[39m\u001b[38;5;132;01m{\u001b[39;00mcand_in\u001b[38;5;132;01m}\u001b[39;00m\u001b[38;5;124m\"\u001b[39m)\n\u001b[1;32m    330\u001b[0m sol\u001b[38;5;241m.\u001b[39melements\u001b[38;5;241m.\u001b[39mappend(cand_in)\n\u001b[0;32m--> 331\u001b[0m \u001b[38;5;28;43mself\u001b[39;49m\u001b[38;5;241;43m.\u001b[39;49m\u001b[43mevaluator\u001b[49m\u001b[38;5;241;43m.\u001b[39;49m\u001b[43mevaluate_objfun\u001b[49m\u001b[43m(\u001b[49m\u001b[43msol\u001b[49m\u001b[43m)\u001b[49m\n\u001b[1;32m    332\u001b[0m improvement_found \u001b[38;5;241m=\u001b[39m \u001b[38;5;28;01mTrue\u001b[39;00m\n\u001b[1;32m    333\u001b[0m \u001b[38;5;28;01mbreak\u001b[39;00m\n",
      "File \u001b[0;32m~/Development/python_projects/MO824-A2/scqbf/scqbf_evaluator.py:19\u001b[0m, in \u001b[0;36mScQbfEvaluator.evaluate_objfun\u001b[0;34m(self, solution)\u001b[0m\n\u001b[1;32m     17\u001b[0m \u001b[38;5;28;01mfor\u001b[39;00m i \u001b[38;5;129;01min\u001b[39;00m solution\u001b[38;5;241m.\u001b[39melements:\n\u001b[1;32m     18\u001b[0m     \u001b[38;5;28;01mfor\u001b[39;00m j \u001b[38;5;129;01min\u001b[39;00m solution\u001b[38;5;241m.\u001b[39melements:\n\u001b[0;32m---> 19\u001b[0m         total \u001b[38;5;241m+\u001b[39m\u001b[38;5;241m=\u001b[39m A[i][j]\n\u001b[1;32m     21\u001b[0m solution\u001b[38;5;241m.\u001b[39m_last_objfun_val \u001b[38;5;241m=\u001b[39m total\n\u001b[1;32m     22\u001b[0m \u001b[38;5;28;01mreturn\u001b[39;00m total\n",
      "\u001b[0;31mKeyboardInterrupt\u001b[0m: "
     ]
    }
   ],
   "source": [
    "config_2 = {\n",
    "    \"construction_method\": \"traditional\",\n",
    "    \"construction_args\": [alpha_2],\n",
    "    \"local_search_method\": \"first_improve\",\n",
    "}\n",
    "results_df = run_experiment(config_2)\n",
    "\n",
    "with open(\"pickles/results_config_2.pkl\", \"wb\") as f:\n",
    "    pickle.dump(results_df, f)"
   ]
  },
  {
   "cell_type": "markdown",
   "id": "872d6f09",
   "metadata": {},
   "source": [
    "## Configuração 3 - PADRÃO+BEST:\n",
    "GRASP PADRÃO mas com best-improving."
   ]
  },
  {
   "cell_type": "code",
   "execution_count": null,
   "id": "9baa0f53",
   "metadata": {},
   "outputs": [],
   "source": [
    "config_3 = {\n",
    "    \"construction_method\": \"traditional\",\n",
    "    \"construction_args\": [alpha_1],\n",
    "    \"local_search_method\": \"best_improve\",\n",
    "}\n",
    "results_df = run_experiment(config_3)\n",
    "\n",
    "with open(\"pickles/results_config_3.pkl\", \"wb\") as f:\n",
    "    pickle.dump(results_df, f)"
   ]
  },
  {
   "cell_type": "markdown",
   "id": "ea6b4fb2",
   "metadata": {},
   "source": [
    "## Configuração 4 - PADRÃO+HC1:\n",
    "GRASP PADRÃO mas com método de construção alternativo 1."
   ]
  },
  {
   "cell_type": "code",
   "execution_count": null,
   "id": "ca377022",
   "metadata": {},
   "outputs": [],
   "source": [
    "p_1 = 0.5\n",
    "config_4 = {\n",
    "    \"construction_method\": \"random_plus_greedy\",\n",
    "    \"construction_args\": [alpha_1, p_1],\n",
    "    \"local_search_method\": \"first_improve\",\n",
    "}\n",
    "results_df = run_experiment(config_4)\n",
    "\n",
    "with open(\"pickles/results_config_4.pkl\", \"wb\") as f:\n",
    "    pickle.dump(results_df, f)"
   ]
  },
  {
   "cell_type": "markdown",
   "id": "67902195",
   "metadata": {},
   "source": [
    "## Configuração 5 - PADRÃO+HC2:\n",
    "GRASP PADRÃO mas com método de construção alternativo 2."
   ]
  },
  {
   "cell_type": "code",
   "execution_count": null,
   "id": "2e1a4c1c",
   "metadata": {},
   "outputs": [],
   "source": [
    "p_2 = 0.1\n",
    "config_5 = {\n",
    "    \"construction_method\": \"sampled_greedy\",\n",
    "    \"construction_args\": [alpha_1, p_1],\n",
    "    \"local_search_method\": \"first_improve\",\n",
    "}\n",
    "results_df = run_experiment(config_5)\n",
    "\n",
    "with open(\"pickles/results_config_5.pkl\", \"wb\") as f:\n",
    "    pickle.dump(results_df, f)"
   ]
  }
 ],
 "metadata": {
  "kernelspec": {
   "display_name": "Python 3",
   "language": "python",
   "name": "python3"
  },
  "language_info": {
   "codemirror_mode": {
    "name": "ipython",
    "version": 3
   },
   "file_extension": ".py",
   "mimetype": "text/x-python",
   "name": "python",
   "nbconvert_exporter": "python",
   "pygments_lexer": "ipython3",
   "version": "3.10.12"
  }
 },
 "nbformat": 4,
 "nbformat_minor": 5
}
